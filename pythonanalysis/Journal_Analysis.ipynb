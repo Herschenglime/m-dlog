{
  "cells": [
    {
      "cell_type": "code",
      "execution_count": 52,
      "metadata": {
        "colab": {
          "base_uri": "https://localhost:8080/"
        },
        "id": "j2QJaVa6Zavw",
        "outputId": "b4f23afd-43fc-402c-ca88-1bb5f32f412a"
      },
      "outputs": [
        {
          "name": "stdout",
          "output_type": "stream",
          "text": [
            "Looking in indexes: https://pypi.org/simple, https://us-python.pkg.dev/colab-wheels/public/simple/\n",
            "Requirement already satisfied: transformers in /usr/local/lib/python3.8/dist-packages (4.26.1)\n",
            "Requirement already satisfied: huggingface-hub<1.0,>=0.11.0 in /usr/local/lib/python3.8/dist-packages (from transformers) (0.12.1)\n",
            "Requirement already satisfied: requests in /usr/local/lib/python3.8/dist-packages (from transformers) (2.25.1)\n",
            "Requirement already satisfied: tqdm>=4.27 in /usr/local/lib/python3.8/dist-packages (from transformers) (4.64.1)\n",
            "Requirement already satisfied: regex!=2019.12.17 in /usr/local/lib/python3.8/dist-packages (from transformers) (2022.6.2)\n",
            "Requirement already satisfied: tokenizers!=0.11.3,<0.14,>=0.11.1 in /usr/local/lib/python3.8/dist-packages (from transformers) (0.13.2)\n",
            "Requirement already satisfied: packaging>=20.0 in /usr/local/lib/python3.8/dist-packages (from transformers) (23.0)\n",
            "Requirement already satisfied: filelock in /usr/local/lib/python3.8/dist-packages (from transformers) (3.9.0)\n",
            "Requirement already satisfied: pyyaml>=5.1 in /usr/local/lib/python3.8/dist-packages (from transformers) (6.0)\n",
            "Requirement already satisfied: numpy>=1.17 in /usr/local/lib/python3.8/dist-packages (from transformers) (1.22.4)\n",
            "Requirement already satisfied: typing-extensions>=3.7.4.3 in /usr/local/lib/python3.8/dist-packages (from huggingface-hub<1.0,>=0.11.0->transformers) (4.5.0)\n",
            "Requirement already satisfied: urllib3<1.27,>=1.21.1 in /usr/local/lib/python3.8/dist-packages (from requests->transformers) (1.26.14)\n",
            "Requirement already satisfied: certifi>=2017.4.17 in /usr/local/lib/python3.8/dist-packages (from requests->transformers) (2022.12.7)\n",
            "Requirement already satisfied: chardet<5,>=3.0.2 in /usr/local/lib/python3.8/dist-packages (from requests->transformers) (4.0.0)\n",
            "Requirement already satisfied: idna<3,>=2.5 in /usr/local/lib/python3.8/dist-packages (from requests->transformers) (2.10)\n",
            "Looking in indexes: https://pypi.org/simple, https://us-python.pkg.dev/colab-wheels/public/simple/\n",
            "Requirement already satisfied: wordcloud in /usr/local/lib/python3.8/dist-packages (1.8.2.2)\n",
            "Requirement already satisfied: pillow in /usr/local/lib/python3.8/dist-packages (from wordcloud) (8.4.0)\n",
            "Requirement already satisfied: matplotlib in /usr/local/lib/python3.8/dist-packages (from wordcloud) (3.5.3)\n",
            "Requirement already satisfied: numpy>=1.6.1 in /usr/local/lib/python3.8/dist-packages (from wordcloud) (1.22.4)\n",
            "Requirement already satisfied: kiwisolver>=1.0.1 in /usr/local/lib/python3.8/dist-packages (from matplotlib->wordcloud) (1.4.4)\n",
            "Requirement already satisfied: python-dateutil>=2.7 in /usr/local/lib/python3.8/dist-packages (from matplotlib->wordcloud) (2.8.2)\n",
            "Requirement already satisfied: packaging>=20.0 in /usr/local/lib/python3.8/dist-packages (from matplotlib->wordcloud) (23.0)\n",
            "Requirement already satisfied: fonttools>=4.22.0 in /usr/local/lib/python3.8/dist-packages (from matplotlib->wordcloud) (4.38.0)\n",
            "Requirement already satisfied: pyparsing>=2.2.1 in /usr/local/lib/python3.8/dist-packages (from matplotlib->wordcloud) (3.0.9)\n",
            "Requirement already satisfied: cycler>=0.10 in /usr/local/lib/python3.8/dist-packages (from matplotlib->wordcloud) (0.11.0)\n",
            "Requirement already satisfied: six>=1.5 in /usr/local/lib/python3.8/dist-packages (from python-dateutil>=2.7->matplotlib->wordcloud) (1.15.0)\n"
          ]
        }
      ],
      "source": [
        "!pip install transformers\n",
        "from transformers import pipeline\n",
        "import pandas as pd\n",
        "import numpy as np\n",
        "import matplotlib.pyplot as plt\n",
        "from matplotlib import pyplot as plt\n",
        "from matplotlib.pyplot import figure\n",
        "!pip install wordcloud\n",
        "from wordcloud import WordCloud\n",
        "import requests\n"
      ]
    },
    {
      "cell_type": "code",
      "execution_count": 53,
      "metadata": {
        "id": "b7Kwu7XiuVk_"
      },
      "outputs": [],
      "source": [
        "data=[{\"title\": \"Jan 01 2023\",\n",
        "    \"body\": \"Happy New Year! It's hard to believe that it's already 2022. I woke up feeling a bit groggy from last night's festivities, but overall excited to start fresh in the new year. I spent most of the day lounging around, watching the Rose Parade and football games on TV. In the evening, I went out to dinner with some friends and we talked about our hopes and goals for the coming year. I'm looking forward to what this year has in store.\"},\n",
        "{\n",
        "\"title\": \"Jan 02 2023\",\n",
        "\"body\": \"Today was a bit of a mixed bag. I started the day feeling energized and motivated to tackle some new projects, but as the day went on I became more and more anxious. I'm not exactly sure what triggered it, but I just couldn't shake the feeling of unease. I tried some relaxation techniques like deep breathing and meditation, but they didn't seem to help much. I'm hoping tomorrow will be better.\"\n",
        "},\n",
        "{\n",
        "\"title\": \"Jan 03 2023\",\n",
        "\"body\": \"Today was a great day! I woke up feeling refreshed and ready to take on the world. I tackled a bunch of tasks on my to-do list and even had time to catch up with a friend over lunch. In the evening, I went to a yoga class and left feeling rejuvenated. It's amazing how much of a difference a good day can make.\"\n",
        "},\n",
        "{\n",
        "\"title\": \"Jan 04 2023\",\n",
        "\"body\": \"Today was a sad day. I found out that a close family member passed away unexpectedly. I'm heartbroken and struggling to process the news. It's times like these that make me realize how important it is to cherish the people we love and hold them close.\"\n",
        "},\n",
        "{\n",
        "\"title\": \"Jan 05 2023\",\n",
        "\"body\": \"I'm still reeling from yesterday's news, but trying to stay positive. I spent some time today reflecting on the happy memories I have with my loved one and it brought me some comfort. It's hard to imagine life without them, but I know they'll always hold a special place in my heart.\"\n",
        "},\n",
        "{\n",
        "\"title\": \"Jan 06 2023\",\n",
        "\"body\": \"Today was a surprising day. I got a call from an old friend who I haven't spoken to in years. We caught up and it was like no time had passed at all. It's amazing how some connections can withstand the test of time. I'm grateful for the unexpected surprise.\"\n",
        "},\n",
        "{\n",
        "\"title\": \"Jan 07 2023\",\n",
        "\"body\": \"Today was a frustrating day. I had a disagreement with a coworker that left me feeling angry and upset. I tried to take some deep breaths and walk away from the situation, but I still feel unsettled. I'll have to find a way to address the issue tomorrow in a constructive way.\"\n",
        "},\n",
        "{\n",
        "\"title\": \"Jan 08 2023\",\n",
        "\"body\": \"Today was a lovely day. I went for a hike in the mountains with some friends and the views were breathtaking. It's moments like these that remind me of the beauty of nature and the importance of spending time outdoors. I feel rejuvenated and grateful for the experience.\"\n",
        "},\n",
        "{\n",
        "\"title\": \"Jan 09 2023\",\n",
        "\"body\": \"Today was a busy day. I had a lot of work to catch up on and it left me feeling a bit overwhelmed. I tried to prioritize my tasks and stay focused, but I still feel like I have a lot to do. I'm hoping to make some progress tomorrow and get back on track.\"\n",
        "},\n",
        "{\n",
        "\"title\": \"Jan 10 2023\",\n",
        "\"body\": \"Today was a surprising day. I found out that I won a small scholarship that I applied for a while back. I wasn't expecting to receive it, so it was a pleasant surprise. It's always nice to feel recognized for your hard work.\"\n",
        "},\n",
        "{\n",
        "\"title\": \"Jan 11 2023\",\n",
        "\"body\": \"Today was a nostalgic day. I stumbled upon some old photos of myself as a child and it brought back a flood of memories. It's interesting to see how much I've grown and changed over the years, but some things remain the same. Looking back on those moments made me feel grateful for the people and experiences that have shaped me into who I am today.\"\n",
        "},\n",
        "{\n",
        "\"title\": \"Jan 12 2023\",\n",
        "\"body\": \"Today was a fearful day. I received some unsettling news about a family member's health and it's left me feeling scared and worried. I'm hoping for the best, but it's hard not to let my mind wander to the worst case scenario. I'll be holding my loved ones a little closer tonight.\"\n",
        "},\n",
        "{\n",
        "\"title\": \"Jan 13 2023\",\n",
        "\"body\": \"Today was a happy day. I met up with some old friends for dinner and we had a great time catching up and reminiscing. It's amazing how even after years of not seeing each other, we can pick up right where we left off. I'm grateful for those friendships that stand the test of time.\"\n",
        "},\n",
        "{\n",
        "\"title\": \"Jan 14 2023\",\n",
        "\"body\": \"Today was a frustrating day. I've been working on a project for weeks now and it feels like no matter what I do, I can't seem to make any progress. It's discouraging and I'm starting to feel like giving up. I'll need to take a break and regroup before tackling it again tomorrow.\"\n",
        "},\n",
        "{\n",
        "\"title\": \"Jan 15 2023\",\n",
        "\"body\": \"Today was a surprising day. I received a package in the mail from a friend who lives across the country. It was completely unexpected and made me feel loved and appreciated. It's amazing how even small gestures can make a big impact.\"\n",
        "},\n",
        "{\n",
        "\"title\": \"Jan 16 2023\",\n",
        "\"body\": \"Today was a peaceful day. I spent the day doing some much-needed self-care activities like taking a bubble bath, reading a good book, and taking a nap. It's important to take time for ourselves and recharge.\"\n",
        "},\n",
        "{\n",
        "\"title\": \"Jan 17 2023\",\n",
        "\"body\": \"Today was a sad day. I received news that a friend's pet passed away. It's hard to see someone you care about go through loss and grief. I'll be reaching out to offer my support and condolences.\"\n",
        "},\n",
        "{\n",
        "\"title\": \"Jan 18 2023\",\n",
        "\"body\": \"Today was an angry day. I had a frustrating encounter with a rude stranger that left me feeling angry and defensive. It's frustrating when someone takes their bad mood out on you, but I'll try not to let it ruin my day.\"\n",
        "},\n",
        "{\n",
        "\"title\": \"Jan 19 2023\",\n",
        "\"body\": \"Today was a happy day. I took my dog to the park and it was so much fun watching him run and play with the other dogs. There's something so pure and joyful about watching animals have fun. It's a good reminder to find joy in the little things.\"\n",
        "},\n",
        "{\n",
        "\"title\": \"Jan 20 2023\",\n",
        "\"body\": \"Today was a hopeful day. I attended a peaceful protest for a cause that's important to me. It's empowering to see people come together for a common goal and to fight for what they believe in. I'm hopeful that change is possible.\"\n",
        "},\n",
        "{\n",
        "\"title\": \"Jan 21 2023\",\n",
        "\"body\": \"Today was a rollercoaster of emotions. I woke up feeling anxious about an upcoming job interview, but then received a call that my best friend is engaged! I'm so happy for her, but also feeling a bit sad that our dynamic will change once she gets married. Later in the day, I had the job interview and I think it went well, but now I'm just waiting to hear back. Overall, a mixed bag of emotions.\"\n",
        "},\n",
        "{\n",
        "\"title\": \"Jan 22 2023\",\n",
        "\"body\": \"Today was a lazy day. I slept in and then spent most of the day binge-watching my favorite show on Netflix. It felt nice to just relax and not have any responsibilities for a day. I did feel a bit guilty about not being productive, but sometimes you just need a break.\"\n",
        "},\n",
        "{\n",
        "\"title\": \"Jan 23 2023\",\n",
        "\"body\": \"I woke up feeling really motivated today. I started a new workout plan and went for a run in the park. It felt good to get my body moving and start the day off on the right foot. Later in the day, I met up with some friends for lunch and we had a great time catching up. Overall, a really positive day.\"\n",
        "},\n",
        "{\n",
        "\"title\": \"Jan 24 2023\",\n",
        "\"body\": \"Today was a bit of a struggle. I had a lot of work to do and felt really overwhelmed by it all. I tried to take breaks throughout the day to avoid burnout, but it was still a tough day. I'm hoping tomorrow will be better.\"\n",
        "},\n",
        "{\n",
        "\"title\": \"Jan 25 2023\",\n",
        "\"body\": \"Today was a total surprise. I received an email from a professor I haven't spoken to in years, offering me a research opportunity. I wasn't expecting it at all, but it felt like a sign that I'm on the right path. I'm excited to see where this opportunity takes me.\"\n",
        "},\n",
        "{\n",
        "\"title\": \"Jan 26 2023\",\n",
        "\"body\": \"I had a really meaningful conversation with a friend today. We talked about some deep topics and it felt good to connect on a deeper level. Sometimes it's easy to get caught up in surface-level conversations, so this was a refreshing change.\"\n",
        "},\n",
        "{\n",
        "\"title\": \"Jan 27 2023\",\n",
        "\"body\": \"Today was a sad day. I found out that a family member passed away unexpectedly. It's hard to process the news and I'm feeling a range of emotions. I'm trying to stay strong for my family, but it's tough.\"\n",
        "},\n",
        "{\n",
        "\"title\": \"Jan 28 2023\",\n",
        "\"body\": \"Today was a day of reflection. I spent some time thinking about my goals for the year and what I want to accomplish. I also took some time to remember my family member who passed away and honor their memory. It's important to take time to reflect and appreciate the people in our lives.\"\n",
        "},\n",
        "{\n",
        "\"title\": \"Jan 29 2023\",\n",
        "\"body\": \"Today was a frustrating day. I had plans to get some work done, but ended up dealing with a lot of unexpected roadblocks. It's frustrating when things don't go according to plan, but I'm trying to stay positive and remind myself that tomorrow is a new day.\"\n",
        "},\n",
        "\n",
        "{\n",
        "\"title\": \"Jan 30 2023\",\n",
        "\"body\": \"Today was a really tough day. I found out that my best friend from college passed away unexpectedly. I'm in shock and devastated. We hadn't seen each other in a while but we talked on the phone regularly. I'm going to miss her so much. It's a reminder to hold our loved ones close and cherish every moment we have with them.\"\n",
        "}]\n"
      ]
    },
    {
      "cell_type": "code",
      "execution_count": 54,
      "metadata": {
        "id": "brFG8rLcxjuX"
      },
      "outputs": [],
      "source": [
        "date=[None]*30\n",
        "entries=[None]*30\n",
        "for i in range(len(data)):\n",
        "  date[i]=data[i][\"title\"]\n",
        "  entries[i]=data[i][\"body\"]"
      ]
    },
    {
      "cell_type": "code",
      "execution_count": 64,
      "metadata": {
        "id": "yK-nSPhDUXEG"
      },
      "outputs": [],
      "source": [
        "class Journals():\n",
        "\n",
        "    def __init__(self,dates, entries):\n",
        "      data={\"dates\":dates,\"entries\":entries}\n",
        "      self.dates = dates\n",
        "      self.entries=entries\n",
        "\n",
        "    \n",
        "    def daily_positive_negative_vals(self):\n",
        "        sentiment_pipeline = pipeline(\"sentiment-analysis\")\n",
        "        sentiment_score_arr = [None]*(len(self.entries))\n",
        "        for i in range(len(self.entries)):\n",
        "            if(sentiment_pipeline(str(self.entries[i]))[0][\"label\"] == 'POSITIVE'):\n",
        "                sentiment_score_arr[i] = sentiment_pipeline(\n",
        "                str(self.entries[i]))[0][\"score\"]\n",
        "            else:\n",
        "                sentiment_score_arr[i] = -1* \\\n",
        "                   sentiment_pipeline(str(self.entries[i]))[0][\"score\"]\n",
        "        return sentiment_score_arr\n",
        "\n",
        "    def daily_positive_negative_graph(self):\n",
        "        sentiment_pipeline = pipeline(\"sentiment-analysis\")\n",
        "        sentiment_score_arr = [None]*(len(self.entries))\n",
        "        for i in range(len(self.entries)):\n",
        "            if(sentiment_pipeline(str(self.entries[i]))[0][\"label\"] == 'POSITIVE'):\n",
        "                sentiment_score_arr[i] = sentiment_pipeline(str(self.entries[i]))[0][\"score\"]\n",
        "            else:\n",
        "                sentiment_score_arr[i] = -1*sentiment_pipeline(str(self.entries[i]))[0][\"score\"]\n",
        "        figure(figsize=(20, 9), dpi=80)\n",
        "        clrs = ['red' if (x < 0) else 'green' for x in sentiment_score_arr]\n",
        "        plt.bar(np.arange(1,31), sentiment_score_arr, color=clrs)\n",
        "        plt.xlabel(\"date\")\n",
        "        plt.ylabel(\"Amount of Negative of Positive Emotion\")\n",
        "        plt.title(\"Rate of Positive Emotion Everyday\")\n",
        "        plt.savefig('single_class.png')\n",
        "    def get_multiclass_graphs(self):\n",
        "        classifier = pipeline(\n",
        "           \"text-classification\", model='bhadresh-savani/distilbert-base-uncased-emotion', return_all_scores=True)\n",
        "        classifications = []\n",
        "        for i in range(len(self.entries)):\n",
        "            classifications.append(classifier(str(self.entries[i])))\n",
        "        classifications = [\n",
        "            item for sublist in classifications for item in sublist]\n",
        "        scores_seperate = []\n",
        "        for classification in classifications:\n",
        "            scores = []\n",
        "            for elem in classification:\n",
        "                scores.append(elem['score'])\n",
        "            scores_seperate.append(scores)\n",
        "            plt.rcParams[\"figure.figsize\"] = [7.50, 3.50]\n",
        "            plt.rcParams[\"figure.autolayout\"] = True\n",
        "            bars = []\n",
        "            labels = np.array(\n",
        "                [\"Sadness\", \"Joy\", \"Love\", \"Anger\", \"Fear\", \"Suprise\"])\n",
        "            colors = [\"darkviolet\", \"lime\", \"hotpink\", \"red\", \"black\", \"darkorange\"]\n",
        "            for i in range(0, len(scores_seperate)):\n",
        "                score_total = 0\n",
        "                for j in range(0, len(scores_seperate[i])):\n",
        "                    plt.barh(i, scores_seperate[i][j], left=score_total,label=labels[j], color = colors[j])\n",
        "                    plt.title(\"Probability Distribution of Various Emotions\")\n",
        "                    score_total += scores_seperate[i][j]\n",
        "                plt.legend()\n",
        "                plt.savefig(str(i+1)+'.png')\n",
        "                plt.close()\n",
        "    def get_multiclass_scores(self):\n",
        "        classifier = pipeline(\n",
        "           \"text-classification\", model='bhadresh-savani/distilbert-base-uncased-emotion', return_all_scores=True)\n",
        "        classifications = []\n",
        "        for i in range(len(self.entries)):\n",
        "            classifications.append(classifier(str(self.entries[i])))\n",
        "        classifications = [\n",
        "            item for sublist in classifications for item in sublist]\n",
        "        scores_seperate = []\n",
        "        for classification in classifications:\n",
        "            scores = []\n",
        "            for elem in classification:\n",
        "                scores.append(elem['score'])\n",
        "            scores_seperate.append(scores)\n",
        "        scores_seperate=np.array(scores_seperate)*10\n",
        "        return np.round(scores_seperate)\n",
        "\n",
        "    def create_wordCloud(self):\n",
        "        w = WordCloud()\n",
        "        stop_words = list(w.stopwords)\n",
        "        custom_stop_words = ['Today', 'time','day','year']\n",
        "        stop_words = set(stop_words + custom_stop_words)\n",
        "        wordcloud = WordCloud(background_color=\"white\", max_words=5000,\n",
        "                              contour_width=3, contour_color='steelblue', stopwords=stop_words)\n",
        "        wordcloud.generate(str(self.entries))\n",
        "        return wordcloud.to_image().save(\"word_cloud.png\")\n",
        "    def create_summary(self):\n",
        "        \n",
        "        summarizer = pipeline(\"summarization\",model=\"facebook/bart-large-cnn\")\n",
        "        return (summarizer(str(self.entries[0:15]),min_length=5,max_length=100,do_sample=False))\n",
        "  \n",
        "\n",
        "\n",
        "journal_array=Journals(date,entries)"
      ]
    },
    {
      "cell_type": "code",
      "execution_count": 56,
      "metadata": {
        "colab": {
          "base_uri": "https://localhost:8080/"
        },
        "id": "iOG8oFiaew7J",
        "outputId": "ada6d9b1-dd0c-4c59-8496-60b452870c83"
      },
      "outputs": [
        {
          "name": "stderr",
          "output_type": "stream",
          "text": [
            "No model was supplied, defaulted to distilbert-base-uncased-finetuned-sst-2-english and revision af0f99b (https://huggingface.co/distilbert-base-uncased-finetuned-sst-2-english).\n",
            "Using a pipeline without specifying a model name and revision in production is not recommended.\n"
          ]
        },
        {
          "data": {
            "text/plain": [
              "[0.9993797540664673,\n",
              " -0.9964678287506104,\n",
              " 0.9994764924049377,\n",
              " 0.9961881041526794,\n",
              " 0.9997803568840027,\n",
              " 0.9997265934944153,\n",
              " -0.9927389025688171,\n",
              " 0.9998849630355835,\n",
              " 0.9929661750793457,\n",
              " 0.9998317956924438,\n",
              " 0.9994632601737976,\n",
              " 0.9881824851036072,\n",
              " 0.9998693466186523,\n",
              " -0.9996258020401001,\n",
              " 0.9998805522918701,\n",
              " 0.9984132051467896,\n",
              " -0.6093926429748535,\n",
              " -0.9523440003395081,\n",
              " 0.9998776912689209,\n",
              " 0.999829888343811,\n",
              " -0.6697168946266174,\n",
              " -0.9196310043334961,\n",
              " 0.9998530149459839,\n",
              " -0.9902549386024475,\n",
              " 0.9996764659881592,\n",
              " 0.9998420476913452,\n",
              " -0.9711459279060364,\n",
              " 0.9993995428085327,\n",
              " 0.9974198341369629,\n",
              " 0.9891651272773743]"
            ]
          },
          "execution_count": 56,
          "metadata": {},
          "output_type": "execute_result"
        }
      ],
      "source": [
        "journal_array.daily_positive_negative_vals()"
      ]
    },
    {
      "cell_type": "code",
      "execution_count": 57,
      "metadata": {
        "colab": {
          "base_uri": "https://localhost:8080/",
          "height": 450
        },
        "id": "IamjbTDcexCC",
        "outputId": "918c164a-915b-4c29-829e-4675c8c0eaae"
      },
      "outputs": [
        {
          "name": "stderr",
          "output_type": "stream",
          "text": [
            "No model was supplied, defaulted to distilbert-base-uncased-finetuned-sst-2-english and revision af0f99b (https://huggingface.co/distilbert-base-uncased-finetuned-sst-2-english).\n",
            "Using a pipeline without specifying a model name and revision in production is not recommended.\n"
          ]
        },
        {
          "data": {
            "image/png": "[encoded data removed]",
            "text/plain": [
              "<Figure size 1600x720 with 1 Axes>"
            ]
          },
          "metadata": {
            "needs_background": "light"
          },
          "output_type": "display_data"
        }
      ],
      "source": [
        "journal_array.daily_positive_negative_graph()"
      ]
    },
    {
      "cell_type": "code",
      "execution_count": 58,
      "metadata": {
        "colab": {
          "base_uri": "https://localhost:8080/"
        },
        "id": "KLmNzXzAexD0",
        "outputId": "92045d83-e14d-4fcd-ae60-b9d0496a457d"
      },
      "outputs": [
        {
          "data": {
            "text/plain": [
              "array([[10.,  0.,  0.,  0.,  0.,  0.],\n",
              "       [ 0.,  7.,  0.,  0.,  3.,  0.],\n",
              "       [ 0., 10.,  0.,  0.,  0.,  0.],\n",
              "       [10.,  0.,  0.,  0.,  0.,  0.],\n",
              "       [ 0., 10.,  0.,  0.,  0.,  0.],\n",
              "       [ 0.,  9.,  0.,  0.,  0.,  1.],\n",
              "       [ 0.,  0.,  0., 10.,  0.,  0.],\n",
              "       [ 0., 10.,  0.,  0.,  0.,  0.],\n",
              "       [ 0.,  0.,  0.,  0.,  3.,  7.],\n",
              "       [ 0., 10.,  0.,  0.,  0.,  0.],\n",
              "       [ 0.,  3.,  7.,  0.,  0.,  0.],\n",
              "       [ 0.,  0.,  0.,  0., 10.,  0.],\n",
              "       [ 0., 10.,  0.,  0.,  0.,  0.],\n",
              "       [ 8.,  2.,  0.,  0.,  0.,  0.],\n",
              "       [ 0.,  0., 10.,  0.,  0.,  0.],\n",
              "       [ 0., 10.,  0.,  0.,  0.,  0.],\n",
              "       [ 8.,  1.,  1.,  0.,  0.,  0.],\n",
              "       [ 0.,  0.,  0., 10.,  0.,  0.],\n",
              "       [ 0., 10.,  0.,  0.,  0.,  0.],\n",
              "       [ 0., 10.,  0.,  0.,  0.,  0.],\n",
              "       [ 0.,  0.,  0.,  0., 10.,  0.],\n",
              "       [ 0., 10.,  0.,  0.,  0.,  0.],\n",
              "       [ 0., 10.,  0.,  0.,  0.,  0.],\n",
              "       [ 0.,  0.,  0.,  0.,  3.,  7.],\n",
              "       [ 0., 10.,  0.,  0.,  0.,  0.],\n",
              "       [ 0., 10.,  0.,  0.,  0.,  0.],\n",
              "       [ 0., 10.,  0.,  0.,  0.,  0.],\n",
              "       [ 8.,  2.,  0.,  0.,  0.,  0.],\n",
              "       [ 0., 10.,  0.,  0.,  0.,  0.],\n",
              "       [10.,  0.,  0.,  0.,  0.,  0.]])"
            ]
          },
          "execution_count": 58,
          "metadata": {},
          "output_type": "execute_result"
        }
      ],
      "source": [
        "journal_array.get_multiclass_scores()"
      ]
    },
    {
      "cell_type": "code",
      "execution_count": 59,
      "metadata": {
        "id": "rUuIEmEKexGL"
      },
      "outputs": [],
      "source": [
        "journal_array.get_multiclass_graphs()"
      ]
    },
    {
      "cell_type": "code",
      "execution_count": 66,
      "metadata": {
        "id": "fE9kH9fnexHl"
      },
      "outputs": [],
      "source": [
        "journal_array.create_wordCloud()"
      ]
    },
    {
      "cell_type": "code",
      "execution_count": 61,
      "metadata": {
        "colab": {
          "base_uri": "https://localhost:8080/"
        },
        "id": "MPpf6_Q_ec3q",
        "outputId": "e191b67e-a160-42f5-b364-c1782993f38b"
      },
      "outputs": [
        {
          "data": {
            "text/plain": [
              "[{'summary_text': '\"Today was a bit of a mixed bag. I started the day feeling energized and motivated to tackle some new projects, but as the day went on I became more and more anxious. I\\'m hoping tomorrow will be better.\" \"I found out that I won a small scholarship that I applied for a while back. It\\'s always nice to feel recognized for your hard work\"'}]"
            ]
          },
          "execution_count": 61,
          "metadata": {},
          "output_type": "execute_result"
        }
      ],
      "source": [
        "journal_array.create_summary()"
      ]
    }
  ],
  "metadata": {
    "colab": {
      "provenance": [],
      "toc_visible": true
    },
    "kernelspec": {
      "display_name": "Python 3",
      "name": "python3"
    },
    "language_info": {
      "name": "python"
    }
  },
  "nbformat": 4,
  "nbformat_minor": 0
}
